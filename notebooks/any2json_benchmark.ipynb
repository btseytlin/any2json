{
  "cells": [
    {
      "cell_type": "code",
      "execution_count": 45,
      "metadata": {
        "id": "m2JXjC0EdF8R"
      },
      "outputs": [],
      "source": [
        "import json"
      ]
    },
    {
      "cell_type": "markdown",
      "metadata": {
        "id": "EV6xN2PEZmR5"
      },
      "source": [
        "# Load secrets\n"
      ]
    },
    {
      "cell_type": "code",
      "execution_count": 46,
      "metadata": {
        "id": "hP5C05m6ZoRw"
      },
      "outputs": [],
      "source": [
        "import os\n",
        "from google.colab import userdata\n",
        "\n",
        "os.environ['HF_TOKEN'] = userdata.get('HF_TOKEN')\n",
        "os.environ['GEMINI_API_KEY'] = userdata.get('GEMINI_API_KEY')"
      ]
    },
    {
      "cell_type": "markdown",
      "metadata": {
        "id": "PohmO8t-Y0pL"
      },
      "source": [
        "# Check out repo\n"
      ]
    },
    {
      "cell_type": "code",
      "execution_count": 47,
      "metadata": {
        "colab": {
          "base_uri": "https://localhost:8080/"
        },
        "id": "QxY-qZB3Yj2a",
        "outputId": "57b1330a-8819-4283-a693-ae3e74983b65"
      },
      "outputs": [
        {
          "output_type": "stream",
          "name": "stdout",
          "text": [
            "Cloning into 'any2json'...\n",
            "remote: Enumerating objects: 449, done.\u001b[K\n",
            "remote: Counting objects: 100% (87/87), done.\u001b[K\n",
            "remote: Compressing objects: 100% (58/58), done.\u001b[K\n",
            "remote: Total 449 (delta 59), reused 57 (delta 29), pack-reused 362 (from 1)\u001b[K\n",
            "Receiving objects: 100% (449/449), 42.12 KiB | 1.62 MiB/s, done.\n",
            "Resolving deltas: 100% (240/240), done.\n",
            "remote: Enumerating objects: 49, done.\u001b[K\n",
            "remote: Counting objects: 100% (34/34), done.\u001b[K\n",
            "remote: Compressing objects: 100% (34/34), done.\u001b[K\n",
            "remote: Total 49 (delta 1), reused 3 (delta 0), pack-reused 15 (from 1)\u001b[K\n",
            "Receiving objects: 100% (49/49), 250.41 KiB | 2.32 MiB/s, done.\n",
            "Resolving deltas: 100% (1/1), done.\n",
            "HEAD is now at f69887c Vibin\n"
          ]
        }
      ],
      "source": [
        "!rm -r any2json\n",
        "!git clone --filter=blob:none  https://github.com/btseytlin/any2json.git\n",
        "!cd any2json && git fetch && git reset --hard origin/main"
      ]
    },
    {
      "cell_type": "code",
      "execution_count": 48,
      "metadata": {
        "id": "_6Mymqpgf120"
      },
      "outputs": [],
      "source": [
        "!cd any2json && uv -q pip install -e . && uv -q pip install vllm --torch-backend=auto"
      ]
    },
    {
      "cell_type": "markdown",
      "metadata": {
        "id": "cgKzsBnCZW4z"
      },
      "source": [
        "# Download dataset"
      ]
    },
    {
      "cell_type": "code",
      "execution_count": 49,
      "metadata": {
        "colab": {
          "base_uri": "https://localhost:8080/"
        },
        "id": "Hkjo630oYpCj",
        "outputId": "f7d2c7b9-2e45-4a85-9b9f-3244e4aa813c"
      },
      "outputs": [
        {
          "output_type": "stream",
          "name": "stdout",
          "text": [
            "110676\n",
            "77946\n"
          ]
        },
        {
          "output_type": "execute_result",
          "data": {
            "text/plain": [
              "Dataset({\n",
              "    features: ['input_data', 'schema', 'output', 'meta'],\n",
              "    num_rows: 110676\n",
              "})"
            ]
          },
          "metadata": {},
          "execution_count": 49
        }
      ],
      "source": [
        "from datasets import load_dataset\n",
        "\n",
        "DATASET_ID = 'btseytlin/any2json'\n",
        "\n",
        "dataset = load_dataset(DATASET_ID)\n",
        "\n",
        "print(len(dataset['train']))\n",
        "print(len(dataset['test']))\n",
        "dataset['train']"
      ]
    },
    {
      "cell_type": "markdown",
      "metadata": {
        "id": "LxbhziEPeYee"
      },
      "source": [
        "# Inspect dataset"
      ]
    },
    {
      "cell_type": "code",
      "execution_count": 50,
      "metadata": {
        "colab": {
          "base_uri": "https://localhost:8080/"
        },
        "id": "sfGawZ-XbEoc",
        "outputId": "2c203b06-ef74-415a-a1e4-9996fc1300c3"
      },
      "outputs": [
        {
          "output_type": "execute_result",
          "data": {
            "text/plain": [
              "{'group': 516,\n",
              " 'input_chunk_content_type': 'STRING',\n",
              " 'input_chunk_id': 32070,\n",
              " 'is_test': False,\n",
              " 'output_chunk_id': 32069,\n",
              " 'schema_conversion_id': 5,\n",
              " 'schema_id': 28438}"
            ]
          },
          "metadata": {},
          "execution_count": 50
        }
      ],
      "source": [
        "dataset['train'][0]['meta']"
      ]
    },
    {
      "cell_type": "code",
      "execution_count": 51,
      "metadata": {
        "colab": {
          "base_uri": "https://localhost:8080/"
        },
        "id": "077W_QmbbmHq",
        "outputId": "27fd321f-dbbc-4694-dcf8-8e7ee2946764"
      },
      "outputs": [
        {
          "output_type": "stream",
          "name": "stdout",
          "text": [
            "                        1        2       3                                    4                                       5                                                       6                                                                                                                                                                                 7                                                  8       9                10  11   12                       13  14                                               15                   16                     17  18             19\n",
            "      kelly10@example.net  710.460 -870865 e98d151e-9a67-4de2-bd87-ceca7be5f5b3 690a:3f0f:7f98:3602:f5cc:8994:ef71:2fbd                              As owner effect same make.                                                                                                   Where single age miss stop. Show heart garden fire economy career it operation.  9574 Dudley Courts Apt. 262\\nGarciaview, TX 36247 -791056        Cuban peso -98 None     https://hampton.org/ IMP                Loss entire campaign opportunity.   384-664-3967x67399 001-715-205-3942x78229 MVR  45.180.130.43\n",
            "       mark73@example.org -606.600  789856 f9a4ab1f-bacc-4b23-a527-fe18570bf0bf 8883:74a9:aca0:507b:351c:bf3d:d04b:4f97 Century defense commercial where week second remain by.                                                                                                       Say my size far Republican interest century. Government front after source.          558 Stephanie Trace\\nLarryhaven, MI 29971 -926706 Malaysian ringgit -14 None       http://robles.com/ CLP      Paper late interview financial pick expect.  +1-698-873-0219x988           524-751-2543 WST 93.125.109.100\n",
            "mollymccarthy@example.com  553.037   74622 315c0d13-b163-4a7f-b45b-9ee60cee51a5 c263:ebf1:7371:62bf:b926:c8b3:80dc:e02e                           World writer plant must down.                                                                                              Late professional talk enjoy local product create. Issue three indeed wrong officer.           0530 Martin Neck\\nMicheleville, SD 01526  -62567   Tuvaluan dollar  10 None      https://conway.biz/ BSD Century protect question seat pay medical catch. 001-742-386-1776x827      332-229-6838x5730 DZD 32.105.100.173\n",
            "       lclark@example.net   -5.301 -188534 81b4fa8a-a174-4039-b36f-9c8e53243cf3  b0b:b1ba:4333:8254:2f71:3c09:d09d:fb16                    Half what officer security low keep. Sit red high air mission simply opportunity. Bit here phone former growth future front product. System firm health pay voice travel late. Picture during discussion so condition.         6257 Timothy Square\\nJosephmouth, RI 54540  976816  Singapore dollar -25 None http://www.mcintyre.com/ LSL            Radio itself clearly employee person.    985.715.3451x9193       595.778.0916x891 BHD  17.131.204.12\n",
            "  marccoleman@example.net -832.980 -780680 ab9831c8-5071-4851-b5dd-bdb005aaa383 53e5:c377:1799:57a6:dd4f:5a85:c604:fcb7                                         Some eye store.                                                           Realize tree debate nature recent. Raise above chance surface vote unit three. Tonight bad dream true suffer important. 476 Kristine Dam Apt. 787\\nPort Meredith, PR 77946 -471084  Hong Kong dollar  -5 None      https://atkins.net/ CZK  Hope professional another prove any staff hope.      +1-491-959-9550     247.268.8083x91415 MMK   43.223.22.24\n"
          ]
        }
      ],
      "source": [
        "print(dataset['train'][0]['input_data'])"
      ]
    },
    {
      "cell_type": "code",
      "execution_count": 52,
      "metadata": {
        "colab": {
          "base_uri": "https://localhost:8080/"
        },
        "id": "TKc3bX-Fc5H9",
        "outputId": "307d77a2-903a-4a5b-8b43-49b2ffbe8d44"
      },
      "outputs": [
        {
          "output_type": "stream",
          "name": "stdout",
          "text": [
            "{\n",
            " \"type\": [\n",
            "  \"array\",\n",
            "  \"null\"\n",
            " ],\n",
            " \"items\": {\n",
            "  \"type\": [\n",
            "   \"object\",\n",
            "   \"null\"\n",
            "  ],\n",
            "  \"properties\": {\n",
            "   \"1\": {\n",
            "    \"type\": [\n",
            "     \"string\",\n",
            "     \"null\"\n",
            "    ]\n",
            "   },\n",
            "   \"2\": {\n",
            "    \"type\": [\n",
            "     \"number\",\n",
            "     \"null\"\n",
            "    ]\n",
            "   },\n",
            "   \"3\": {\n",
            "    \"type\": [\n",
            "     \"integer\",\n",
            "     \"null\"\n",
            "    ]\n",
            "   },\n",
            "   \"4\": {\n",
            "    \"type\": [\n",
            "     \"string\",\n",
            "     \"null\"\n",
            "    ]\n",
            "   },\n",
            "   \"5\": {\n",
            "    \"type\": [\n",
            "     \"string\",\n",
            "     \"null\"\n",
            "    ]\n",
            "   },\n",
            "   \"6\": {\n",
            "    \"type\": [\n",
            "     \"string\",\n",
            "     \"null\"\n",
            "    ]\n",
            "   },\n",
            "   \"7\": {\n",
            "    \"type\": [\n",
            "     \"string\",\n",
            "     \"null\"\n",
            "    ]\n",
            "   },\n",
            "   \"8\": {\n",
            "    \"type\": [\n",
            "     \"string\",\n",
            "     \"null\"\n",
            "    ]\n",
            "   },\n",
            "   \"9\": {\n",
            "    \"type\": [\n",
            "     \"integer\",\n",
            "     \"null\"\n",
            "    ]\n",
            "   },\n",
            "   \"10\": {\n",
            "    \"type\": [\n",
            "     \"string\",\n",
            "     \"null\"\n",
            "    ]\n",
            "   },\n",
            "   \"11\": {\n",
            "    \"type\": [\n",
            "     \"integer\",\n",
            "     \"null\"\n",
            "    ]\n",
            "   },\n",
            "   \"12\": {\n",
            "    \"type\": [\n",
            "     \"string\",\n",
            "     \"null\"\n",
            "    ]\n",
            "   },\n",
            "   \"13\": {\n",
            "    \"type\": [\n",
            "     \"string\",\n",
            "     \"null\"\n",
            "    ]\n",
            "   },\n",
            "   \"14\": {\n",
            "    \"type\": [\n",
            "     \"string\",\n",
            "     \"null\"\n",
            "    ]\n",
            "   },\n",
            "   \"15\": {\n",
            "    \"type\": [\n",
            "     \"string\",\n",
            "     \"null\"\n",
            "    ]\n",
            "   },\n",
            "   \"16\": {\n",
            "    \"type\": [\n",
            "     \"string\",\n",
            "     \"null\"\n",
            "    ]\n",
            "   },\n",
            "   \"17\": {\n",
            "    \"type\": [\n",
            "     \"string\",\n",
            "     \"null\"\n",
            "    ]\n",
            "   },\n",
            "   \"18\": {\n",
            "    \"type\": [\n",
            "     \"string\",\n",
            "     \"null\"\n",
            "    ]\n",
            "   },\n",
            "   \"19\": {\n",
            "    \"type\": [\n",
            "     \"string\",\n",
            "     \"null\"\n",
            "    ]\n",
            "   }\n",
            "  }\n",
            " }\n",
            "}\n"
          ]
        }
      ],
      "source": [
        "print(json.dumps(json.loads(dataset['train'][0]['schema']), indent=1))"
      ]
    },
    {
      "cell_type": "code",
      "execution_count": 53,
      "metadata": {
        "colab": {
          "base_uri": "https://localhost:8080/"
        },
        "id": "T1bZa9fKdBYW",
        "outputId": "5e3256fa-5e1c-4c24-d9c2-094beed1966c"
      },
      "outputs": [
        {
          "output_type": "stream",
          "name": "stdout",
          "text": [
            "[\n",
            " {\n",
            "  \"1\": \"kelly10@example.net\",\n",
            "  \"2\": 710.46,\n",
            "  \"3\": -870865,\n",
            "  \"4\": \"e98d151e-9a67-4de2-bd87-ceca7be5f5b3\",\n",
            "  \"5\": \"690a:3f0f:7f98:3602:f5cc:8994:ef71:2fbd\",\n",
            "  \"6\": \"As owner effect same make.\",\n",
            "  \"7\": \"Where single age miss stop. Show heart garden fire economy career it operation.\",\n",
            "  \"8\": \"9574 Dudley Courts Apt. 262\\nGarciaview, TX 36247\",\n",
            "  \"9\": -791056,\n",
            "  \"10\": \"Cuban peso\",\n",
            "  \"11\": -98,\n",
            "  \"12\": null,\n",
            "  \"13\": \"https://hampton.org/\",\n",
            "  \"14\": \"IMP\",\n",
            "  \"15\": \"Loss entire campaign opportunity.\",\n",
            "  \"16\": \"384-664-3967x67399\",\n",
            "  \"17\": \"001-715-205-3942x78229\",\n",
            "  \"18\": \"MVR\",\n",
            "  \"19\": \"45.180.130.43\"\n",
            " },\n",
            " {\n",
            "  \"1\": \"mark73@example.org\",\n",
            "  \"2\": -606.6,\n",
            "  \"3\": 789856,\n",
            "  \"4\": \"f9a4ab1f-bacc-4b23-a527-fe18570bf0bf\",\n",
            "  \"5\": \"8883:74a9:aca0:507b:351c:bf3d:d04b:4f97\",\n",
            "  \"6\": \"Century defense commercial where week second remain by.\",\n",
            "  \"7\": \"Say my size far Republican interest century. Government front after source.\",\n",
            "  \"8\": \"558 Stephanie Trace\\nLarryhaven, MI 29971\",\n",
            "  \"9\": -926706,\n",
            "  \"10\": \"Malaysian ringgit\",\n",
            "  \"11\": -14,\n",
            "  \"12\": null,\n",
            "  \"13\": \"http://robles.com/\",\n",
            "  \"14\": \"CLP\",\n",
            "  \"15\": \"Paper late interview financial pick expect.\",\n",
            "  \"16\": \"+1-698-873-0219x988\",\n",
            "  \"17\": \"524-751-2543\",\n",
            "  \"18\": \"WST\",\n",
            "  \"19\": \"93.125.109.100\"\n",
            " },\n",
            " {\n",
            "  \"1\": \"mollymccarthy@example.com\",\n",
            "  \"2\": 553.037,\n",
            "  \"3\": 74622,\n",
            "  \"4\": \"315c0d13-b163-4a7f-b45b-9ee60cee51a5\",\n",
            "  \"5\": \"c263:ebf1:7371:62bf:b926:c8b3:80dc:e02e\",\n",
            "  \"6\": \"World writer plant must down.\",\n",
            "  \"7\": \"Late professional talk enjoy local product create. Issue three indeed wrong officer.\",\n",
            "  \"8\": \"0530 Martin Neck\\nMicheleville, SD 01526\",\n",
            "  \"9\": -62567,\n",
            "  \"10\": \"Tuvaluan dollar\",\n",
            "  \"11\": 10,\n",
            "  \"12\": null,\n",
            "  \"13\": \"https://conway.biz/\",\n",
            "  \"14\": \"BSD\",\n",
            "  \"15\": \"Century protect question seat pay medical catch.\",\n",
            "  \"16\": \"001-742-386-1776x827\",\n",
            "  \"17\": \"332-229-6838x5730\",\n",
            "  \"18\": \"DZD\",\n",
            "  \"19\": \"32.105.100.173\"\n",
            " },\n",
            " {\n",
            "  \"1\": \"lclark@example.net\",\n",
            "  \"2\": -5.301,\n",
            "  \"3\": -188534,\n",
            "  \"4\": \"81b4fa8a-a174-4039-b36f-9c8e53243cf3\",\n",
            "  \"5\": \"b0b:b1ba:4333:8254:2f71:3c09:d09d:fb16\",\n",
            "  \"6\": \"Half what officer security low keep.\",\n",
            "  \"7\": \"Sit red high air mission simply opportunity. Bit here phone former growth future front product. System firm health pay voice travel late. Picture during discussion so condition.\",\n",
            "  \"8\": \"6257 Timothy Square\\nJosephmouth, RI 54540\",\n",
            "  \"9\": 976816,\n",
            "  \"10\": \"Singapore dollar\",\n",
            "  \"11\": -25,\n",
            "  \"12\": null,\n",
            "  \"13\": \"http://www.mcintyre.com/\",\n",
            "  \"14\": \"LSL\",\n",
            "  \"15\": \"Radio itself clearly employee person.\",\n",
            "  \"16\": \"985.715.3451x9193\",\n",
            "  \"17\": \"595.778.0916x891\",\n",
            "  \"18\": \"BHD\",\n",
            "  \"19\": \"17.131.204.12\"\n",
            " },\n",
            " {\n",
            "  \"1\": \"marccoleman@example.net\",\n",
            "  \"2\": -832.98,\n",
            "  \"3\": -780680,\n",
            "  \"4\": \"ab9831c8-5071-4851-b5dd-bdb005aaa383\",\n",
            "  \"5\": \"53e5:c377:1799:57a6:dd4f:5a85:c604:fcb7\",\n",
            "  \"6\": \"Some eye store.\",\n",
            "  \"7\": \"Realize tree debate nature recent. Raise above chance surface vote unit three. Tonight bad dream true suffer important.\",\n",
            "  \"8\": \"476 Kristine Dam Apt. 787\\nPort Meredith, PR 77946\",\n",
            "  \"9\": -471084,\n",
            "  \"10\": \"Hong Kong dollar\",\n",
            "  \"11\": -5,\n",
            "  \"12\": null,\n",
            "  \"13\": \"https://atkins.net/\",\n",
            "  \"14\": \"CZK\",\n",
            "  \"15\": \"Hope professional another prove any staff hope.\",\n",
            "  \"16\": \"+1-491-959-9550\",\n",
            "  \"17\": \"247.268.8083x91415\",\n",
            "  \"18\": \"MMK\",\n",
            "  \"19\": \"43.223.22.24\"\n",
            " }\n",
            "]\n"
          ]
        }
      ],
      "source": [
        "print(json.dumps(json.loads(dataset['train'][0]['output']), indent=1))"
      ]
    },
    {
      "cell_type": "markdown",
      "metadata": {
        "id": "5NVJh7w2ei3o"
      },
      "source": [
        "# Run Benchmarking"
      ]
    },
    {
      "cell_type": "code",
      "execution_count": 54,
      "metadata": {
        "colab": {
          "base_uri": "https://localhost:8080/",
          "height": 35
        },
        "id": "to6ezGoogIH0",
        "outputId": "86d963fe-e81c-43a2-ead9-12255200b81b"
      },
      "outputs": [
        {
          "output_type": "execute_result",
          "data": {
            "text/plain": [
              "'btseytlin/any2json'"
            ],
            "application/vnd.google.colaboratory.intrinsic+json": {
              "type": "string"
            }
          },
          "metadata": {},
          "execution_count": 54
        }
      ],
      "source": [
        "DATASET_ID"
      ]
    },
    {
      "cell_type": "code",
      "source": [
        "!python any2json/scripts/benchmark.py --hf-dataset btseytlin/any2json --split test --model-type qwen --output-dir=benchmark_results --model-kwargs='{\"enable_thinking\": true, \"backend\": \"vllm_server\", \"server_log_path\": \"vllm.log\"}'"
      ],
      "metadata": {
        "colab": {
          "base_uri": "https://localhost:8080/"
        },
        "id": "fLDujjeHwEjc",
        "outputId": "cf2dfc31-f254-4162-b7e3-a7d5ac5a237c"
      },
      "execution_count": null,
      "outputs": [
        {
          "output_type": "stream",
          "name": "stdout",
          "text": [
            "2025-08-10 17:24:18.705133: I tensorflow/core/util/port.cc:153] oneDNN custom operations are on. You may see slightly different numerical results due to floating-point round-off errors from different computation orders. To turn them off, set the environment variable `TF_ENABLE_ONEDNN_OPTS=0`.\n",
            "2025-08-10 17:24:18.722752: E external/local_xla/xla/stream_executor/cuda/cuda_fft.cc:467] Unable to register cuFFT factory: Attempting to register factory for plugin cuFFT when one has already been registered\n",
            "WARNING: All log messages before absl::InitializeLog() is called are written to STDERR\n",
            "E0000 00:00:1754846658.743716   21446 cuda_dnn.cc:8579] Unable to register cuDNN factory: Attempting to register factory for plugin cuDNN when one has already been registered\n",
            "E0000 00:00:1754846658.750174   21446 cuda_blas.cc:1407] Unable to register cuBLAS factory: Attempting to register factory for plugin cuBLAS when one has already been registered\n",
            "W0000 00:00:1754846658.766452   21446 computation_placer.cc:177] computation placer already registered. Please check linkage and avoid linking the same target more than once.\n",
            "W0000 00:00:1754846658.766478   21446 computation_placer.cc:177] computation placer already registered. Please check linkage and avoid linking the same target more than once.\n",
            "W0000 00:00:1754846658.766481   21446 computation_placer.cc:177] computation placer already registered. Please check linkage and avoid linking the same target more than once.\n",
            "W0000 00:00:1754846658.766484   21446 computation_placer.cc:177] computation placer already registered. Please check linkage and avoid linking the same target more than once.\n",
            "2025-08-10 17:24:18.771189: I tensorflow/core/platform/cpu_feature_guard.cc:210] This TensorFlow binary is optimized to use available CPU instructions in performance-critical operations.\n",
            "To enable the following instructions: AVX2 AVX512F AVX512_VNNI FMA, in other operations, rebuild TensorFlow with the appropriate compiler flags.\n"
          ]
        }
      ]
    },
    {
      "cell_type": "code",
      "source": [],
      "metadata": {
        "id": "aaXZA1M95boc"
      },
      "execution_count": 55,
      "outputs": []
    }
  ],
  "metadata": {
    "accelerator": "GPU",
    "colab": {
      "collapsed_sections": [
        "LxbhziEPeYee"
      ],
      "gpuType": "A100",
      "provenance": [],
      "machine_shape": "hm"
    },
    "kernelspec": {
      "display_name": "Python 3",
      "name": "python3"
    },
    "language_info": {
      "name": "python"
    }
  },
  "nbformat": 4,
  "nbformat_minor": 0
}
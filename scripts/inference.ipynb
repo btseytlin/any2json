{
 "cells": [
  {
   "cell_type": "code",
   "execution_count": 87,
   "id": "d0e31e11",
   "metadata": {},
   "outputs": [
    {
     "name": "stdout",
     "output_type": "stream",
     "text": [
      "The autoreload extension is already loaded. To reload it, use:\n",
      "  %reload_ext autoreload\n"
     ]
    }
   ],
   "source": [
    "%load_ext autoreload\n",
    "%autoreload 2"
   ]
  },
  {
   "cell_type": "code",
   "execution_count": 88,
   "id": "01e46ce3",
   "metadata": {},
   "outputs": [],
   "source": [
    "from collections.abc import Callable\n",
    "import streamlit as st\n",
    "import json\n",
    "import httpx\n",
    "from typing import Optional\n",
    "import sys\n",
    "import os\n",
    "\n",
    "from any2json.schema_utils import to_supported_json_schema\n",
    "from any2json.training.utils import format_example\n",
    "import fastjsonschema\n",
    "\n",
    "from any2json.utils import json_dumps_minified"
   ]
  },
  {
   "cell_type": "code",
   "execution_count": 104,
   "id": "cfa201d4",
   "metadata": {},
   "outputs": [],
   "source": [
    "from any2json.training.train import prepare_model_and_tokenizer, PipelineConfig\n",
    "from transformers import TrainingArguments\n",
    "pcfg = PipelineConfig()\n",
    "pcfg.model_name = \"../artifacts/any2json_gemma270m:v1\"\n",
    "\n",
    "args = TrainingArguments()\n"
   ]
  },
  {
   "cell_type": "code",
   "execution_count": 105,
   "id": "bb18f947",
   "metadata": {},
   "outputs": [],
   "source": [
    "model, tokenizer = prepare_model_and_tokenizer(\n",
    "    pcfg, args,\n",
    ")"
   ]
  },
  {
   "cell_type": "code",
   "execution_count": 106,
   "id": "2f3d1f02",
   "metadata": {},
   "outputs": [
    {
     "data": {
      "text/plain": [
       "Gemma3ForCausalLM(\n",
       "  (model): Gemma3TextModel(\n",
       "    (embed_tokens): Gemma3TextScaledWordEmbedding(262144, 640, padding_idx=0)\n",
       "    (layers): ModuleList(\n",
       "      (0-17): 18 x Gemma3DecoderLayer(\n",
       "        (self_attn): Gemma3Attention(\n",
       "          (q_proj): Linear(in_features=640, out_features=1024, bias=False)\n",
       "          (k_proj): Linear(in_features=640, out_features=256, bias=False)\n",
       "          (v_proj): Linear(in_features=640, out_features=256, bias=False)\n",
       "          (o_proj): Linear(in_features=1024, out_features=640, bias=False)\n",
       "          (q_norm): Gemma3RMSNorm((256,), eps=1e-06)\n",
       "          (k_norm): Gemma3RMSNorm((256,), eps=1e-06)\n",
       "        )\n",
       "        (mlp): Gemma3MLP(\n",
       "          (gate_proj): Linear(in_features=640, out_features=2048, bias=False)\n",
       "          (up_proj): Linear(in_features=640, out_features=2048, bias=False)\n",
       "          (down_proj): Linear(in_features=2048, out_features=640, bias=False)\n",
       "          (act_fn): PytorchGELUTanh()\n",
       "        )\n",
       "        (input_layernorm): Gemma3RMSNorm((640,), eps=1e-06)\n",
       "        (post_attention_layernorm): Gemma3RMSNorm((640,), eps=1e-06)\n",
       "        (pre_feedforward_layernorm): Gemma3RMSNorm((640,), eps=1e-06)\n",
       "        (post_feedforward_layernorm): Gemma3RMSNorm((640,), eps=1e-06)\n",
       "      )\n",
       "    )\n",
       "    (norm): Gemma3RMSNorm((640,), eps=1e-06)\n",
       "    (rotary_emb): Gemma3RotaryEmbedding()\n",
       "    (rotary_emb_local): Gemma3RotaryEmbedding()\n",
       "  )\n",
       "  (lm_head): Linear(in_features=640, out_features=262144, bias=False)\n",
       ")"
      ]
     },
     "execution_count": 106,
     "metadata": {},
     "output_type": "execute_result"
    }
   ],
   "source": [
    "model.eval()"
   ]
  },
  {
   "cell_type": "code",
   "execution_count": 107,
   "id": "5f1f68bc",
   "metadata": {},
   "outputs": [],
   "source": [
    "def validate_json_schema(\n",
    "    schema_text: str,\n",
    ") -> tuple[bool, Optional[dict], str, Optional[Callable]]:\n",
    "    if not schema_text.strip():\n",
    "        return True, None, None, \"\", None\n",
    "\n",
    "    try:\n",
    "        schema = json.loads(schema_text)\n",
    "        processed_schema = to_supported_json_schema(schema)\n",
    "        validator = fastjsonschema.compile(processed_schema)\n",
    "        return True, processed_schema, schema, \"\", validator\n",
    "    except json.JSONDecodeError as e:\n",
    "        return False, None, None, f\"Invalid JSON: {e}\", None\n",
    "    except ValueError as e:\n",
    "        return False, None, None, f\"Schema error: {e}\", None\n",
    "    except Exception as e:\n",
    "        return False, None, None, f\"Unexpected error: {e}\", None"
   ]
  },
  {
   "cell_type": "code",
   "execution_count": 108,
   "id": "09cddc7f",
   "metadata": {},
   "outputs": [
    {
     "name": "stderr",
     "output_type": "stream",
     "text": [
      "Device set to use mps:0\n"
     ]
    }
   ],
   "source": [
    "from transformers import pipeline\n",
    "\n",
    "pipe = pipeline(\"text-generation\", model=model, tokenizer=tokenizer)"
   ]
  },
  {
   "cell_type": "code",
   "execution_count": 113,
   "id": "df5671d3",
   "metadata": {},
   "outputs": [
    {
     "name": "stdout",
     "output_type": "stream",
     "text": [
      "Convert input data to json according to JSONSchema\n",
      "[SCHEMA]{\"items\":{\"properties\":{\"budget\":{\"type\":[\"number\",\"null\"]},\"release_year\":{\"type\":[\"number\",\"null\"]},\"title\":{\"type\":[\"string\",\"null\"]},\"worldwide_gross\":{\"type\":[\"number\",\"null\"]}},\"type\":[\"object\",\"null\"]},\"type\":[\"array\",\"null\"]}[INPUT]\n",
      "{\n",
      "    \"techniques\": [\n",
      "        {\n",
      "            \"description\": \"Using personal anecdotes to engage the audience\",\n",
      "            \"example_speaker\": \"Chimamanda Ngozi Adichie\",\n",
      "            \"example_talk\": \"We Should All Be Feminists\",\n",
      "            \"name\": \"Storytelling\"\n",
      "        },\n",
      "        {\n",
      "            \"description\": \"Comparing complex ideas to relatable concepts\",\n",
      "            \"example_speaker\": \"Brené Brown\",\n",
      "            \"example_talk\": \"The Power of Vulnerability\",\n",
      "            \"name\": \"Metaphor\"\n",
      "        },\n",
      "        {\n",
      "            \"description\": \"Using images, videos, or props to illustrate a point\",\n",
      "            \"example_speaker\": \"Ken Robinson\",\n",
      "            \"example_talk\": \"Do Schools Kill Creativity?\",\n",
      "            \"name\": \"Visual Aids\"\n",
      "        }\n",
      "    ]\n",
      "}\n",
      "[OUTPUT]\n"
     ]
    }
   ],
   "source": [
    "input_data = \"\"\"\n",
    "{\n",
    "    \"techniques\": [\n",
    "        {\n",
    "            \"description\": \"Using personal anecdotes to engage the audience\",\n",
    "            \"example_speaker\": \"Chimamanda Ngozi Adichie\",\n",
    "            \"example_talk\": \"We Should All Be Feminists\",\n",
    "            \"name\": \"Storytelling\"\n",
    "        },\n",
    "        {\n",
    "            \"description\": \"Comparing complex ideas to relatable concepts\",\n",
    "            \"example_speaker\": \"Brené Brown\",\n",
    "            \"example_talk\": \"The Power of Vulnerability\",\n",
    "            \"name\": \"Metaphor\"\n",
    "        },\n",
    "        {\n",
    "            \"description\": \"Using images, videos, or props to illustrate a point\",\n",
    "            \"example_speaker\": \"Ken Robinson\",\n",
    "            \"example_talk\": \"Do Schools Kill Creativity?\",\n",
    "            \"name\": \"Visual Aids\"\n",
    "        }\n",
    "    ]\n",
    "}\n",
    "\"\"\"\n",
    "\n",
    "schema = {\"type\":\"array\",\"items\":{\"type\":\"object\",\"properties\":{\"title\":{\"type\":\"string\"},\"release_year\":{\"type\":\"number\"},\"budget\":{\"type\":\"number\"},\"worldwide_gross\":{\"type\":\"number\"}}}}\n",
    "schema = json.dumps(schema)\n",
    "_, processed_schema, schema, _, validator = validate_json_schema(schema)\n",
    "schema_str = (\n",
    "    json_dumps_minified(processed_schema)\n",
    "    if processed_schema\n",
    "    else \"[MISSING]\"\n",
    ")\n",
    "input_str = format_example(input_data, schema_str)\n",
    "print(input_str)"
   ]
  },
  {
   "cell_type": "code",
   "execution_count": 116,
   "id": "482a1c4b",
   "metadata": {},
   "outputs": [
    {
     "name": "stdout",
     "output_type": "stream",
     "text": [
      "Generated output:\n",
      "{\"    \\\"techniques\":[{},{}]}                \\\"description\\\": \\\"Using personal anecdotes to engage the audience \\\"example_speaker\\\": \\\"Chimamanda Ngozi Adichie\\\", \\\"example_talk\\\": \\\"We Should All Be Feminists\\\", \\\"name\\\": \\\"Storytelling\\\"},\\n          \\\"description\\\": \\\"Comparing complex ideas to relatable concepts \\\"example_speaker\\\": \\\"Bren\\u00e9 Brown\\\", \\\"example_talk\\\": \\\"The Power of Vulnerability\\\", \\\"name\\\": \\\"Metaphor\\\"},{}],\"description\":\"Comparing complex ideas to relatable concepts \\\"example_speaker\\\": \\\"Bren\\u00e9 Brown\\\", \\\"example_talk\\\": \\\"The Power of Vulnerability\\\", \\\"name\\\": \\\"Metaphor\\\"}\"}]}\\\"ark\\\"}[6\\\"fieldproperties\":{\".\\\"description\\\": \\\"Using images, videos, or props to illustrate a point \\\"example_speaker\\\": \\\"Ken Robinson\\\", \\\"example_talk\\\": \\\"Do Schools Kill Creativity?\",\"name\":\"Visual Aids\"}],\"app\\u00e9\\\"},\\\"description\\\": \\\"Using images, videos, or props to illustrate a point \\\"example_speaker\\\": \\\"Ken Robinson\\\", \\\"example_talk\\\": \\\"Do Schools Kill Creativity?\",\"name\":\"Visual Aids\n",
      "\n"
     ]
    },
    {
     "ename": "JSONDecodeError",
     "evalue": "Extra data: line 1 column 45 (char 44)",
     "output_type": "error",
     "traceback": [
      "\u001b[31m---------------------------------------------------------------------------\u001b[39m",
      "\u001b[31mJSONDecodeError\u001b[39m                           Traceback (most recent call last)",
      "\u001b[36mCell\u001b[39m\u001b[36m \u001b[39m\u001b[32mIn[116]\u001b[39m\u001b[32m, line 6\u001b[39m\n\u001b[32m      4\u001b[39m \u001b[38;5;28mprint\u001b[39m(result_output)\n\u001b[32m      5\u001b[39m \u001b[38;5;28mprint\u001b[39m()\n\u001b[32m----> \u001b[39m\u001b[32m6\u001b[39m result_output = \u001b[43mjson\u001b[49m\u001b[43m.\u001b[49m\u001b[43mloads\u001b[49m\u001b[43m(\u001b[49m\u001b[43mresult_output\u001b[49m\u001b[43m)\u001b[49m\n\u001b[32m      8\u001b[39m \u001b[38;5;28mprint\u001b[39m(\u001b[33m'\u001b[39m\u001b[33mParsed output:\u001b[39m\u001b[33m'\u001b[39m)\n\u001b[32m      9\u001b[39m \u001b[38;5;28mprint\u001b[39m(json.dumps(result_output, indent=\u001b[32m2\u001b[39m))\n",
      "\u001b[36mFile \u001b[39m\u001b[32m/Library/Frameworks/Python.framework/Versions/3.12/lib/python3.12/json/__init__.py:346\u001b[39m, in \u001b[36mloads\u001b[39m\u001b[34m(s, cls, object_hook, parse_float, parse_int, parse_constant, object_pairs_hook, **kw)\u001b[39m\n\u001b[32m    341\u001b[39m     s = s.decode(detect_encoding(s), \u001b[33m'\u001b[39m\u001b[33msurrogatepass\u001b[39m\u001b[33m'\u001b[39m)\n\u001b[32m    343\u001b[39m \u001b[38;5;28;01mif\u001b[39;00m (\u001b[38;5;28mcls\u001b[39m \u001b[38;5;129;01mis\u001b[39;00m \u001b[38;5;28;01mNone\u001b[39;00m \u001b[38;5;129;01mand\u001b[39;00m object_hook \u001b[38;5;129;01mis\u001b[39;00m \u001b[38;5;28;01mNone\u001b[39;00m \u001b[38;5;129;01mand\u001b[39;00m\n\u001b[32m    344\u001b[39m         parse_int \u001b[38;5;129;01mis\u001b[39;00m \u001b[38;5;28;01mNone\u001b[39;00m \u001b[38;5;129;01mand\u001b[39;00m parse_float \u001b[38;5;129;01mis\u001b[39;00m \u001b[38;5;28;01mNone\u001b[39;00m \u001b[38;5;129;01mand\u001b[39;00m\n\u001b[32m    345\u001b[39m         parse_constant \u001b[38;5;129;01mis\u001b[39;00m \u001b[38;5;28;01mNone\u001b[39;00m \u001b[38;5;129;01mand\u001b[39;00m object_pairs_hook \u001b[38;5;129;01mis\u001b[39;00m \u001b[38;5;28;01mNone\u001b[39;00m \u001b[38;5;129;01mand\u001b[39;00m \u001b[38;5;129;01mnot\u001b[39;00m kw):\n\u001b[32m--> \u001b[39m\u001b[32m346\u001b[39m     \u001b[38;5;28;01mreturn\u001b[39;00m \u001b[43m_default_decoder\u001b[49m\u001b[43m.\u001b[49m\u001b[43mdecode\u001b[49m\u001b[43m(\u001b[49m\u001b[43ms\u001b[49m\u001b[43m)\u001b[49m\n\u001b[32m    347\u001b[39m \u001b[38;5;28;01mif\u001b[39;00m \u001b[38;5;28mcls\u001b[39m \u001b[38;5;129;01mis\u001b[39;00m \u001b[38;5;28;01mNone\u001b[39;00m:\n\u001b[32m    348\u001b[39m     \u001b[38;5;28mcls\u001b[39m = JSONDecoder\n",
      "\u001b[36mFile \u001b[39m\u001b[32m/Library/Frameworks/Python.framework/Versions/3.12/lib/python3.12/json/decoder.py:340\u001b[39m, in \u001b[36mJSONDecoder.decode\u001b[39m\u001b[34m(self, s, _w)\u001b[39m\n\u001b[32m    338\u001b[39m end = _w(s, end).end()\n\u001b[32m    339\u001b[39m \u001b[38;5;28;01mif\u001b[39;00m end != \u001b[38;5;28mlen\u001b[39m(s):\n\u001b[32m--> \u001b[39m\u001b[32m340\u001b[39m     \u001b[38;5;28;01mraise\u001b[39;00m JSONDecodeError(\u001b[33m\"\u001b[39m\u001b[33mExtra data\u001b[39m\u001b[33m\"\u001b[39m, s, end)\n\u001b[32m    341\u001b[39m \u001b[38;5;28;01mreturn\u001b[39;00m obj\n",
      "\u001b[31mJSONDecodeError\u001b[39m: Extra data: line 1 column 45 (char 44)"
     ]
    }
   ],
   "source": [
    "result = pipe(input_str)[0][\"generated_text\"]\n",
    "result_output = result.split('[OUTPUT]')[1]\n",
    "print('Generated output:')\n",
    "print(result_output)\n",
    "print()\n",
    "result_output = json.loads(result_output)\n",
    "\n",
    "print('Parsed output:')\n",
    "print(json.dumps(result_output, indent=2))\n",
    "\n",
    "if validator:\n",
    "    try:\n",
    "        validator(result_output)\n",
    "        print('✅ Schema validation passed')\n",
    "    except fastjsonschema.exceptions.JsonSchemaException as e:\n",
    "        raise\n"
   ]
  },
  {
   "cell_type": "code",
   "execution_count": null,
   "id": "3b913ea6",
   "metadata": {},
   "outputs": [],
   "source": []
  }
 ],
 "metadata": {
  "kernelspec": {
   "display_name": ".venv",
   "language": "python",
   "name": "python3"
  },
  "language_info": {
   "codemirror_mode": {
    "name": "ipython",
    "version": 3
   },
   "file_extension": ".py",
   "mimetype": "text/x-python",
   "name": "python",
   "nbconvert_exporter": "python",
   "pygments_lexer": "ipython3",
   "version": "3.12.4"
  }
 },
 "nbformat": 4,
 "nbformat_minor": 5
}
